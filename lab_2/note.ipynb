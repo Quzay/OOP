{
 "cells": [
  {
   "cell_type": "markdown",
   "id": "6163fe13",
   "metadata": {},
   "source": [
    "## Завдання 1\n",
    "### Основні типи даних"
   ]
  },
  {
   "cell_type": "code",
   "execution_count": 14,
   "id": "c8aaf62a",
   "metadata": {},
   "outputs": [
    {
     "name": "stdout",
     "output_type": "stream",
     "text": [
      "Привіт, Максим!\n",
      "Наступного року тобі буде: 18 років\n",
      "6\n",
      "{1, 2, 3, 4, 5}\n",
      "Максим\n"
     ]
    }
   ],
   "source": [
    "name = \"Максим\"\n",
    "print(f'Привіт, {name}!') #string\n",
    "\n",
    "age = 17\n",
    "print(f\"Наступного року тобі буде: {age + 1} років\") #int\n",
    "\n",
    "l = [1, 2.5, \"три\", [4, 5, 6], True]\n",
    "print(l[3][2]) #list\n",
    "\n",
    "numbers = {1, 2, 3, 3, 4}\n",
    "numbers.add(5)\n",
    "print(numbers) #set\n",
    "\n",
    "student = {\n",
    "    \"ім'я\": \"Максим\",\n",
    "    \"вік\": 17,\n",
    "    \"група\": \"КН-31\"\n",
    "}\n",
    "\n",
    "print(student[\"ім'я\"]) #dict"
   ]
  },
  {
   "cell_type": "markdown",
   "id": "061b0bbf",
   "metadata": {},
   "source": [
    "## Завдання 2\n",
    "### Вбудовані константи"
   ]
  },
  {
   "cell_type": "code",
   "execution_count": 15,
   "id": "86ba4db4",
   "metadata": {},
   "outputs": [
    {
     "name": "stdout",
     "output_type": "stream",
     "text": [
      "Перша константа: True\n",
      "Друга константа через f-рядок: False\n",
      "Третя константа: None\n",
      "\n",
      " Список зарезервованих слів у Python:\n",
      "\n",
      "Here is a list of the Python keywords.  Enter any keyword to get more help.\n",
      "\n",
      "False               class               from                or\n",
      "None                continue            global              pass\n",
      "True                def                 if                  raise\n",
      "and                 del                 import              return\n",
      "as                  elif                in                  try\n",
      "assert              else                is                  while\n",
      "async               except              lambda              with\n",
      "await               finally             nonlocal            yield\n",
      "break               for                 not                 \n",
      "\n"
     ]
    }
   ],
   "source": [
    "\n",
    "print(\"Перша константа:\", True)\n",
    "print(f\"Друга константа через f-рядок: {False}\")\n",
    "print(\"Третя константа:\", None)\n",
    "import sys\n",
    "print(\"\\n Список зарезервованих слів у Python:\")\n",
    "help(\"keywords\")"
   ]
  },
  {
   "cell_type": "markdown",
   "id": "eba5ba28",
   "metadata": {},
   "source": [
    "## Завдання 3\n",
    "### Вбудовані функції"
   ]
  },
  {
   "cell_type": "code",
   "execution_count": 16,
   "id": "4ab6de7b",
   "metadata": {},
   "outputs": [
    {
     "name": "stdout",
     "output_type": "stream",
     "text": [
      "12.5 є рівним 12.5 і якщо порівняти то: True\n",
      "Довжина слова 'Python' дорівнює: 6\n",
      "Число 3.14159 округлене до 2 знаків: 3.14\n"
     ]
    }
   ],
   "source": [
    "print(abs(-12.5), f\"є рівним {abs(12.5)}\", \"і якщо порівняти то:\", abs(-12.5) == abs(12.5))\n",
    "\n",
    "text = \"Python\"\n",
    "print(f\"Довжина слова '{text}' дорівнює:\", len(text))\n",
    "\n",
    "num = 3.14159\n",
    "print(f\"Число {num} округлене до 2 знаків:\", round(num, 2))"
   ]
  },
  {
   "cell_type": "markdown",
   "id": "0559c9b3",
   "metadata": {},
   "source": [
    "## Завдання 4\n",
    "### Цикли"
   ]
  },
  {
   "cell_type": "code",
   "execution_count": 17,
   "id": "56df68e5",
   "metadata": {},
   "outputs": [
    {
     "name": "stdout",
     "output_type": "stream",
     "text": [
      "На позиції 0 знаходиться буква a\n",
      "На позиції 1 знаходиться буква b\n",
      "На позиції 2 знаходиться буква c\n",
      "Цикл for завершився успішно!\n",
      "Ітерація номер 1\n",
      "Ітерація номер 2\n",
      "Ітерація номер 3\n",
      "Цикл while завершено!\n",
      "1 — непарне число\n",
      "2 — парне число\n",
      "3 — непарне число\n",
      "4 — парне число\n",
      "5 — непарне число\n"
     ]
    }
   ],
   "source": [
    "letters = [\"a\", \"b\", \"c\"]\n",
    "for i in range(len(letters)):\n",
    "    print(f\"На позиції {i} знаходиться буква {letters[i]}\")\n",
    "else:\n",
    "    print(\"Цикл for завершився успішно!\")\n",
    "count = 1\n",
    "\n",
    "while count <= 3:\n",
    "    print(f\"Ітерація номер {count}\")\n",
    "    count += 1\n",
    "else:\n",
    "    print(\"Цикл while завершено!\")\n",
    "\n",
    "numbers = [1, 2, 3, 4, 5]\n",
    "for n in numbers:\n",
    "    if n % 2 == 0:\n",
    "        print(f\"{n} — парне число\")\n",
    "    else:\n",
    "        print(f\"{n} — непарне число\")"
   ]
  },
  {
   "cell_type": "markdown",
   "id": "7f9fdea1",
   "metadata": {},
   "source": [
    "## Завдання 5\n",
    "### Розгалуження"
   ]
  },
  {
   "cell_type": "code",
   "execution_count": 18,
   "id": "a17ff2e8",
   "metadata": {},
   "outputs": [
    {
     "name": "stdout",
     "output_type": "stream",
     "text": [
      "14 — це парне число\n",
      "Спекотно 🌞\n"
     ]
    }
   ],
   "source": [
    "import random\n",
    "\n",
    "A = random.randint(0, 15)\n",
    "print(f\"{A} — це парне число\" if A % 2 == 0 else f\"{A} — це непарне число\")\n",
    "\n",
    "temperature = random.randint(-10, 35)\n",
    "if temperature > 25:\n",
    "    print(\"Спекотно 🌞\")\n",
    "elif temperature > 10:\n",
    "    print(\"Прохолодно 🌤️\")\n",
    "else:\n",
    "    print(\"Холодно ❄️\")"
   ]
  },
  {
   "cell_type": "markdown",
   "id": "1f80241e",
   "metadata": {},
   "source": [
    "## Завдання 6\n",
    "### Конструкція try->except->finally"
   ]
  },
  {
   "cell_type": "code",
   "execution_count": 19,
   "id": "c095fecd",
   "metadata": {},
   "outputs": [
    {
     "name": "stdout",
     "output_type": "stream",
     "text": [
      "Ділення 10 на 1 дає результат: 10.0\n",
      "Блок finally виконується завжди — навіть при помилці.\n"
     ]
    }
   ],
   "source": [
    "import random\n",
    "try:\n",
    "    x = 10\n",
    "    y = random.randint(0, 2) \n",
    "    print(f\"Ділення {x} на {y} дає результат: {x / y}\")  \n",
    "except ZeroDivisionError:\n",
    "    print(\"Помилка: не можна ділити на нуль!\")\n",
    "finally:\n",
    "    print(\"Блок finally виконується завжди — навіть при помилці.\")\n"
   ]
  },
  {
   "cell_type": "markdown",
   "id": "69a094b3",
   "metadata": {},
   "source": [
    "## Завдання 7\n",
    "### Контекст-менеджер with"
   ]
  },
  {
   "cell_type": "code",
   "execution_count": 20,
   "id": "2d5c29e0",
   "metadata": {},
   "outputs": [
    {
     "name": "stdout",
     "output_type": "stream",
     "text": [
      "Зміст файлу: Привіт! Це записано через контекст-менеджер\n"
     ]
    }
   ],
   "source": [
    "\n",
    "with open(\"second_lab.py\", \"w\", encoding=\"utf-8\") as file:\n",
    "    file.write(\"Привіт! Це записано через контекст-менеджер\")\n",
    "\n",
    "with open(\"second_lab.py\", \"r\", encoding=\"utf-8\") as file:\n",
    "    content = file.read()\n",
    "    print(\"Зміст файлу:\", content)"
   ]
  },
  {
   "cell_type": "markdown",
   "id": "3a3d5570",
   "metadata": {},
   "source": [
    "## Завдання 8\n",
    "### Python lambdas"
   ]
  },
  {
   "cell_type": "code",
   "execution_count": 21,
   "id": "a74cab7a",
   "metadata": {},
   "outputs": [
    {
     "name": "stdout",
     "output_type": "stream",
     "text": [
      "[1, 4, 9, 16, 25]\n",
      "['КН', 'ООП', 'Максим', 'Студент']\n"
     ]
    }
   ],
   "source": [
    "numbers = [1, 2, 3, 4, 5]\n",
    "squares = list(map(lambda n: n ** 2, numbers))\n",
    "print(squares)\n",
    "\n",
    "words = [\"Максим\", \"Студент\", \"КН\", \"ООП\" ]\n",
    "sorted_words = sorted(words, key=lambda w: len(w))\n",
    "print(sorted_words) "
   ]
  }
 ],
 "metadata": {
  "language_info": {
   "name": "python"
  }
 },
 "nbformat": 4,
 "nbformat_minor": 5
}
