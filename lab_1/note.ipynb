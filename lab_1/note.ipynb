{
 "cells": [
  {
   "cell_type": "markdown",
   "id": "e75b77c3",
   "metadata": {},
   "source": [
    "# Перша програма в notebook\n",
    "\n",
    "1. Проста програма яка чекає вводу з клавіатури та виводить"
   ]
  },
  {
   "cell_type": "code",
   "execution_count": 1,
   "id": "3cb2d314",
   "metadata": {},
   "outputs": [
    {
     "name": "stdout",
     "output_type": "stream",
     "text": [
      "Привіт, Maksym !\n"
     ]
    }
   ],
   "source": [
    "name = input(\"Як тебе звати? \")\n",
    "print(\"Привіт,\", name, \"!\")"
   ]
  },
  {
   "cell_type": "markdown",
   "id": "caf9fc12",
   "metadata": {},
   "source": [
    "### Ось покращена версія \"Вгадай Число\""
   ]
  },
  {
   "cell_type": "code",
   "execution_count": 2,
   "id": "a02a4f52",
   "metadata": {},
   "outputs": [
    {
     "name": "stdout",
     "output_type": "stream",
     "text": [
      "Вгадай число від 1 до 20!\n",
      "Занадто багато! \n",
      "Занадто багато! \n",
      "Вітаю! Ти вгадав число 1 за 3 спроб!\n"
     ]
    }
   ],
   "source": [
    "import random\n",
    "secret_number = random.randint(1, 20)\n",
    "attempts = 0\n",
    "print(\"Вгадай число від 1 до 20!\")\n",
    "while True:\n",
    "    guess = int(input(\"Введи число: \"))\n",
    "    attempts += 1\n",
    "    \n",
    "    if guess < secret_number:\n",
    "        print(\"Занадто мало! \")\n",
    "    elif guess > secret_number:\n",
    "        print(\"Занадто багато! \")\n",
    "    else:\n",
    "        print(f\"Вітаю! Ти вгадав число {secret_number} за {attempts} спроб!\")\n",
    "        break"
   ]
  }
 ],
 "metadata": {
  "kernelspec": {
   "display_name": "Python 3",
   "language": "python",
   "name": "python3"
  },
  "language_info": {
   "codemirror_mode": {
    "name": "ipython",
    "version": 3
   },
   "file_extension": ".py",
   "mimetype": "text/x-python",
   "name": "python",
   "nbconvert_exporter": "python",
   "pygments_lexer": "ipython3",
   "version": "3.13.1"
  }
 },
 "nbformat": 4,
 "nbformat_minor": 5
}
